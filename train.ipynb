{
 "cells": [
  {
   "cell_type": "code",
   "execution_count": null,
   "metadata": {
    "execution": {
     "iopub.execute_input": "2025-02-24T06:44:10.197297Z",
     "iopub.status.busy": "2025-02-24T06:44:10.196986Z",
     "iopub.status.idle": "2025-02-24T06:44:15.336475Z",
     "shell.execute_reply": "2025-02-24T06:44:15.335552Z",
     "shell.execute_reply.started": "2025-02-24T06:44:10.197264Z"
    },
    "trusted": true
   },
   "outputs": [],
   "source": [
    "import torch\n",
    "from torch.utils.data import Dataset\n",
    "import pandas as pd\n",
    "\n",
    "class CustomDataset(Dataset):\n",
    "    def __init__(self, data):\n",
    "        self.data = data\n",
    "        self.features = self.data.drop(columns=[\"key_length\"]).values.astype(\"float32\")\n",
    "        self.labels = self.data[\"key_length\"].values.astype(\"int64\")\n",
    "\n",
    "    def __len__(self):\n",
    "        return len(self.data)\n",
    "    \n",
    "    def __getitem__(self, idx):\n",
    "        label = self.labels[idx] - 3\n",
    "        return torch.tensor(self.features[idx]), torch.tensor(label)"
   ]
  },
  {
   "cell_type": "code",
   "execution_count": 17,
   "metadata": {
    "execution": {
     "iopub.execute_input": "2025-02-24T06:49:47.546721Z",
     "iopub.status.busy": "2025-02-24T06:49:47.546284Z",
     "iopub.status.idle": "2025-02-24T06:49:54.324378Z",
     "shell.execute_reply": "2025-02-24T06:49:54.323348Z",
     "shell.execute_reply.started": "2025-02-24T06:49:47.546683Z"
    },
    "trusted": true
   },
   "outputs": [],
   "source": [
    "data = pd.read_csv('/kaggle/input/viginere/scaled_dataset.csv', index_col=0)"
   ]
  },
  {
   "cell_type": "code",
   "execution_count": 3,
   "metadata": {
    "execution": {
     "iopub.execute_input": "2025-02-24T06:44:25.873361Z",
     "iopub.status.busy": "2025-02-24T06:44:25.873155Z",
     "iopub.status.idle": "2025-02-24T06:44:25.948889Z",
     "shell.execute_reply": "2025-02-24T06:44:25.948232Z",
     "shell.execute_reply.started": "2025-02-24T06:44:25.873343Z"
    },
    "trusted": true
   },
   "outputs": [],
   "source": [
    "#data.drop(columns=['ic_english'], inplace=True)"
   ]
  },
  {
   "cell_type": "code",
   "execution_count": 18,
   "metadata": {
    "execution": {
     "iopub.execute_input": "2025-02-24T06:49:57.694567Z",
     "iopub.status.busy": "2025-02-24T06:49:57.694243Z",
     "iopub.status.idle": "2025-02-24T06:49:57.715677Z",
     "shell.execute_reply": "2025-02-24T06:49:57.714800Z",
     "shell.execute_reply.started": "2025-02-24T06:49:57.694541Z"
    },
    "trusted": true
   },
   "outputs": [
    {
     "data": {
      "text/html": [
       "<div>\n",
       "<style scoped>\n",
       "    .dataframe tbody tr th:only-of-type {\n",
       "        vertical-align: middle;\n",
       "    }\n",
       "\n",
       "    .dataframe tbody tr th {\n",
       "        vertical-align: top;\n",
       "    }\n",
       "\n",
       "    .dataframe thead th {\n",
       "        text-align: right;\n",
       "    }\n",
       "</style>\n",
       "<table border=\"1\" class=\"dataframe\">\n",
       "  <thead>\n",
       "    <tr style=\"text-align: right;\">\n",
       "      <th></th>\n",
       "      <th>twist_plus_2</th>\n",
       "      <th>twist_plus_3</th>\n",
       "      <th>twist_plus_4</th>\n",
       "      <th>twist_plus_5</th>\n",
       "      <th>twist_plus_6</th>\n",
       "      <th>twist_plus_7</th>\n",
       "      <th>twist_plus_8</th>\n",
       "      <th>twist_plus_9</th>\n",
       "      <th>twist_plus_10</th>\n",
       "      <th>twist_plus_11</th>\n",
       "      <th>...</th>\n",
       "      <th>avg_ic_16</th>\n",
       "      <th>avg_ic_17</th>\n",
       "      <th>avg_ic_18</th>\n",
       "      <th>avg_ic_19</th>\n",
       "      <th>avg_ic_20</th>\n",
       "      <th>avg_ic_21</th>\n",
       "      <th>avg_ic_22</th>\n",
       "      <th>avg_ic_23</th>\n",
       "      <th>avg_ic_24</th>\n",
       "      <th>avg_ic_25</th>\n",
       "    </tr>\n",
       "  </thead>\n",
       "  <tbody>\n",
       "    <tr>\n",
       "      <th>0</th>\n",
       "      <td>0.946157</td>\n",
       "      <td>0.277134</td>\n",
       "      <td>0.330061</td>\n",
       "      <td>-0.228233</td>\n",
       "      <td>-0.087002</td>\n",
       "      <td>-0.064213</td>\n",
       "      <td>0.104583</td>\n",
       "      <td>-0.535735</td>\n",
       "      <td>0.473344</td>\n",
       "      <td>0.601731</td>\n",
       "      <td>...</td>\n",
       "      <td>0.036055</td>\n",
       "      <td>0.069009</td>\n",
       "      <td>0.038137</td>\n",
       "      <td>0.037242</td>\n",
       "      <td>0.035380</td>\n",
       "      <td>0.042912</td>\n",
       "      <td>0.035205</td>\n",
       "      <td>0.039441</td>\n",
       "      <td>0.033085</td>\n",
       "      <td>0.038476</td>\n",
       "    </tr>\n",
       "    <tr>\n",
       "      <th>1</th>\n",
       "      <td>-0.476172</td>\n",
       "      <td>-1.835358</td>\n",
       "      <td>0.384805</td>\n",
       "      <td>-0.227980</td>\n",
       "      <td>-1.797114</td>\n",
       "      <td>-0.241315</td>\n",
       "      <td>0.742724</td>\n",
       "      <td>-2.337681</td>\n",
       "      <td>0.013129</td>\n",
       "      <td>-1.781924</td>\n",
       "      <td>...</td>\n",
       "      <td>0.034112</td>\n",
       "      <td>0.040185</td>\n",
       "      <td>0.055556</td>\n",
       "      <td>0.030794</td>\n",
       "      <td>0.031212</td>\n",
       "      <td>0.052140</td>\n",
       "      <td>0.035262</td>\n",
       "      <td>0.039614</td>\n",
       "      <td>0.050000</td>\n",
       "      <td>0.034222</td>\n",
       "    </tr>\n",
       "    <tr>\n",
       "      <th>2</th>\n",
       "      <td>-0.556013</td>\n",
       "      <td>1.346394</td>\n",
       "      <td>-0.959029</td>\n",
       "      <td>0.774457</td>\n",
       "      <td>1.165160</td>\n",
       "      <td>0.536509</td>\n",
       "      <td>-2.651277</td>\n",
       "      <td>0.299322</td>\n",
       "      <td>0.455943</td>\n",
       "      <td>0.744209</td>\n",
       "      <td>...</td>\n",
       "      <td>0.059017</td>\n",
       "      <td>0.040694</td>\n",
       "      <td>0.044412</td>\n",
       "      <td>0.041170</td>\n",
       "      <td>0.046602</td>\n",
       "      <td>0.044528</td>\n",
       "      <td>0.042610</td>\n",
       "      <td>0.042416</td>\n",
       "      <td>0.061717</td>\n",
       "      <td>0.036078</td>\n",
       "    </tr>\n",
       "    <tr>\n",
       "      <th>3</th>\n",
       "      <td>-0.660045</td>\n",
       "      <td>0.514283</td>\n",
       "      <td>-0.962589</td>\n",
       "      <td>-0.439027</td>\n",
       "      <td>-0.252981</td>\n",
       "      <td>0.005925</td>\n",
       "      <td>0.408578</td>\n",
       "      <td>0.712773</td>\n",
       "      <td>-1.234302</td>\n",
       "      <td>0.153733</td>\n",
       "      <td>...</td>\n",
       "      <td>0.038297</td>\n",
       "      <td>0.064636</td>\n",
       "      <td>0.035775</td>\n",
       "      <td>0.034895</td>\n",
       "      <td>0.047894</td>\n",
       "      <td>0.031913</td>\n",
       "      <td>0.043388</td>\n",
       "      <td>0.034256</td>\n",
       "      <td>0.045455</td>\n",
       "      <td>0.038384</td>\n",
       "    </tr>\n",
       "    <tr>\n",
       "      <th>4</th>\n",
       "      <td>0.452874</td>\n",
       "      <td>0.102333</td>\n",
       "      <td>-0.073309</td>\n",
       "      <td>0.002002</td>\n",
       "      <td>0.291250</td>\n",
       "      <td>0.001735</td>\n",
       "      <td>0.527004</td>\n",
       "      <td>-0.387152</td>\n",
       "      <td>0.195024</td>\n",
       "      <td>0.425630</td>\n",
       "      <td>...</td>\n",
       "      <td>0.041823</td>\n",
       "      <td>0.035030</td>\n",
       "      <td>0.041886</td>\n",
       "      <td>0.036910</td>\n",
       "      <td>0.043910</td>\n",
       "      <td>0.042579</td>\n",
       "      <td>0.040138</td>\n",
       "      <td>0.037077</td>\n",
       "      <td>0.042245</td>\n",
       "      <td>0.039882</td>\n",
       "    </tr>\n",
       "  </tbody>\n",
       "</table>\n",
       "<p>5 rows × 78 columns</p>\n",
       "</div>"
      ],
      "text/plain": [
       "   twist_plus_2  twist_plus_3  twist_plus_4  twist_plus_5  twist_plus_6  \\\n",
       "0      0.946157      0.277134      0.330061     -0.228233     -0.087002   \n",
       "1     -0.476172     -1.835358      0.384805     -0.227980     -1.797114   \n",
       "2     -0.556013      1.346394     -0.959029      0.774457      1.165160   \n",
       "3     -0.660045      0.514283     -0.962589     -0.439027     -0.252981   \n",
       "4      0.452874      0.102333     -0.073309      0.002002      0.291250   \n",
       "\n",
       "   twist_plus_7  twist_plus_8  twist_plus_9  twist_plus_10  twist_plus_11  \\\n",
       "0     -0.064213      0.104583     -0.535735       0.473344       0.601731   \n",
       "1     -0.241315      0.742724     -2.337681       0.013129      -1.781924   \n",
       "2      0.536509     -2.651277      0.299322       0.455943       0.744209   \n",
       "3      0.005925      0.408578      0.712773      -1.234302       0.153733   \n",
       "4      0.001735      0.527004     -0.387152       0.195024       0.425630   \n",
       "\n",
       "   ...  avg_ic_16  avg_ic_17  avg_ic_18  avg_ic_19  avg_ic_20  avg_ic_21  \\\n",
       "0  ...   0.036055   0.069009   0.038137   0.037242   0.035380   0.042912   \n",
       "1  ...   0.034112   0.040185   0.055556   0.030794   0.031212   0.052140   \n",
       "2  ...   0.059017   0.040694   0.044412   0.041170   0.046602   0.044528   \n",
       "3  ...   0.038297   0.064636   0.035775   0.034895   0.047894   0.031913   \n",
       "4  ...   0.041823   0.035030   0.041886   0.036910   0.043910   0.042579   \n",
       "\n",
       "   avg_ic_22  avg_ic_23  avg_ic_24  avg_ic_25  \n",
       "0   0.035205   0.039441   0.033085   0.038476  \n",
       "1   0.035262   0.039614   0.050000   0.034222  \n",
       "2   0.042610   0.042416   0.061717   0.036078  \n",
       "3   0.043388   0.034256   0.045455   0.038384  \n",
       "4   0.040138   0.037077   0.042245   0.039882  \n",
       "\n",
       "[5 rows x 78 columns]"
      ]
     },
     "execution_count": 18,
     "metadata": {},
     "output_type": "execute_result"
    }
   ],
   "source": [
    "data.head()"
   ]
  },
  {
   "cell_type": "code",
   "execution_count": 19,
   "metadata": {
    "execution": {
     "iopub.execute_input": "2025-02-24T06:49:57.717286Z",
     "iopub.status.busy": "2025-02-24T06:49:57.716938Z",
     "iopub.status.idle": "2025-02-24T06:49:57.736801Z",
     "shell.execute_reply": "2025-02-24T06:49:57.736054Z",
     "shell.execute_reply.started": "2025-02-24T06:49:57.717256Z"
    },
    "trusted": true
   },
   "outputs": [
    {
     "data": {
      "text/plain": [
       "(25, 3)"
      ]
     },
     "execution_count": 19,
     "metadata": {},
     "output_type": "execute_result"
    }
   ],
   "source": [
    "data['key_length'].max(), data['key_length'].min()"
   ]
  },
  {
   "cell_type": "code",
   "execution_count": 20,
   "metadata": {
    "execution": {
     "iopub.execute_input": "2025-02-24T06:49:57.738836Z",
     "iopub.status.busy": "2025-02-24T06:49:57.738625Z",
     "iopub.status.idle": "2025-02-24T06:49:57.755541Z",
     "shell.execute_reply": "2025-02-24T06:49:57.754789Z",
     "shell.execute_reply.started": "2025-02-24T06:49:57.738818Z"
    },
    "trusted": true
   },
   "outputs": [
    {
     "data": {
      "text/plain": [
       "23"
      ]
     },
     "execution_count": 20,
     "metadata": {},
     "output_type": "execute_result"
    }
   ],
   "source": [
    "len(data['key_length'].value_counts())"
   ]
  },
  {
   "cell_type": "code",
   "execution_count": 21,
   "metadata": {
    "execution": {
     "iopub.execute_input": "2025-02-24T06:49:57.757286Z",
     "iopub.status.busy": "2025-02-24T06:49:57.756843Z",
     "iopub.status.idle": "2025-02-24T06:49:57.954861Z",
     "shell.execute_reply": "2025-02-24T06:49:57.954128Z",
     "shell.execute_reply.started": "2025-02-24T06:49:57.757262Z"
    },
    "trusted": true
   },
   "outputs": [],
   "source": [
    "from sklearn.model_selection import train_test_split\n",
    "\n",
    "train_data, val_data = train_test_split(data, test_size=0.15, random_state=42)"
   ]
  },
  {
   "cell_type": "code",
   "execution_count": 22,
   "metadata": {
    "execution": {
     "iopub.execute_input": "2025-02-24T06:49:57.955894Z",
     "iopub.status.busy": "2025-02-24T06:49:57.955656Z",
     "iopub.status.idle": "2025-02-24T06:49:58.064107Z",
     "shell.execute_reply": "2025-02-24T06:49:58.063325Z",
     "shell.execute_reply.started": "2025-02-24T06:49:57.955874Z"
    },
    "trusted": true
   },
   "outputs": [],
   "source": [
    "train_dataset, val_dataset = CustomDataset(train_data), CustomDataset(val_data)"
   ]
  },
  {
   "cell_type": "code",
   "execution_count": 23,
   "metadata": {
    "execution": {
     "iopub.execute_input": "2025-02-24T06:49:58.065278Z",
     "iopub.status.busy": "2025-02-24T06:49:58.064946Z",
     "iopub.status.idle": "2025-02-24T06:49:58.070558Z",
     "shell.execute_reply": "2025-02-24T06:49:58.069607Z",
     "shell.execute_reply.started": "2025-02-24T06:49:58.065249Z"
    },
    "trusted": true
   },
   "outputs": [
    {
     "data": {
      "text/plain": [
       "(287319, 50704)"
      ]
     },
     "execution_count": 23,
     "metadata": {},
     "output_type": "execute_result"
    }
   ],
   "source": [
    "len(train_dataset), len(val_dataset)"
   ]
  },
  {
   "cell_type": "code",
   "execution_count": 24,
   "metadata": {
    "execution": {
     "iopub.execute_input": "2025-02-24T06:49:58.071763Z",
     "iopub.status.busy": "2025-02-24T06:49:58.071427Z",
     "iopub.status.idle": "2025-02-24T06:49:58.089072Z",
     "shell.execute_reply": "2025-02-24T06:49:58.088232Z",
     "shell.execute_reply.started": "2025-02-24T06:49:58.071733Z"
    },
    "trusted": true
   },
   "outputs": [
    {
     "data": {
      "text/plain": [
       "77"
      ]
     },
     "execution_count": 24,
     "metadata": {},
     "output_type": "execute_result"
    }
   ],
   "source": [
    "len(train_dataset[0][0])"
   ]
  },
  {
   "cell_type": "code",
   "execution_count": 25,
   "metadata": {
    "execution": {
     "iopub.execute_input": "2025-02-24T06:49:58.091055Z",
     "iopub.status.busy": "2025-02-24T06:49:58.090841Z",
     "iopub.status.idle": "2025-02-24T06:49:58.105562Z",
     "shell.execute_reply": "2025-02-24T06:49:58.104713Z",
     "shell.execute_reply.started": "2025-02-24T06:49:58.091022Z"
    },
    "trusted": true
   },
   "outputs": [],
   "source": [
    "from torch.utils.data import DataLoader\n",
    "BATCH_SIZE=128\n",
    "train_loader = DataLoader(train_dataset, batch_size=BATCH_SIZE, shuffle=True)\n",
    "val_loader = DataLoader(val_dataset, batch_size=BATCH_SIZE, shuffle=False)"
   ]
  },
  {
   "cell_type": "code",
   "execution_count": null,
   "metadata": {
    "execution": {
     "iopub.execute_input": "2025-02-24T06:49:58.106769Z",
     "iopub.status.busy": "2025-02-24T06:49:58.106531Z",
     "iopub.status.idle": "2025-02-24T06:49:58.123820Z",
     "shell.execute_reply": "2025-02-24T06:49:58.123198Z",
     "shell.execute_reply.started": "2025-02-24T06:49:58.106743Z"
    },
    "trusted": true
   },
   "outputs": [],
   "source": [
    "import torch\n",
    "\n",
    "class EarlyStopping:\n",
    "        def __init__(self, patience=5, delta=0, path=\"best_model.pth\"):\n",
    "            self.patience = patience\n",
    "            self.delta = delta\n",
    "            self.path = path\n",
    "            self.best_loss = float(\"inf\")\n",
    "            self.counter = 0\n",
    "            self.early_stop = False\n",
    "\n",
    "        def __call__(self, val_loss, model):\n",
    "            if val_loss < self.best_loss - self.delta:\n",
    "                self.best_loss = val_loss\n",
    "                self.counter = 0\n",
    "                torch.save(model.state_dict(), self.path)\n",
    "                print(f\"New best model saved! Val Loss: {val_loss:.4f}\")\n",
    "            else:\n",
    "                self.counter += 1\n",
    "                print(f\"EarlyStopping counter: {self.counter}/{self.patience}\")\n",
    "                if self.counter >= self.patience:\n",
    "                    self.early_stop = True\n"
   ]
  },
  {
   "cell_type": "code",
   "execution_count": null,
   "metadata": {
    "execution": {
     "iopub.execute_input": "2025-02-24T06:49:58.124813Z",
     "iopub.status.busy": "2025-02-24T06:49:58.124563Z",
     "iopub.status.idle": "2025-02-24T06:49:58.143626Z",
     "shell.execute_reply": "2025-02-24T06:49:58.142929Z",
     "shell.execute_reply.started": "2025-02-24T06:49:58.124782Z"
    },
    "trusted": true
   },
   "outputs": [],
   "source": [
    "import tqdm\n",
    "\n",
    "def validate_model(model, val_loader, criterion, device):\n",
    "    \"\"\"\n",
    "    Evaluate the model on the validation set.\n",
    "    \"\"\"\n",
    "    model.eval()\n",
    "    model.to(device)\n",
    "    val_loss, correct, total = 0, 0, 0\n",
    "    with torch.no_grad():\n",
    "        for features, targets in val_loader:\n",
    "            features = features.to(device, dtype=torch.float32)\n",
    "            targets = targets.to(device, dtype=torch.long)\n",
    "\n",
    "            outputs = model(features)\n",
    "            loss = criterion(outputs, targets)\n",
    "            val_loss += loss.item()\n",
    "\n",
    "            _, predicted = torch.max(outputs, 1)\n",
    "            total += targets.size(0)\n",
    "            correct += (predicted == targets).sum().item()\n",
    "\n",
    "    avg_val_loss = val_loss / len(val_loader)\n",
    "    val_accuracy = 100 * correct / total\n",
    "    return avg_val_loss, val_accuracy\n",
    "\n",
    "def train_model(model, train_loader, val_loader, criterion, optimizer, device, scheduler=None, num_epochs=100, patience=5):\n",
    "    \"\"\"\n",
    "    Train the model with early stopping and learning rate scheduling.\n",
    "    \"\"\"\n",
    "    early_stopping = EarlyStopping(patience=patience)\n",
    "    model.to(device)\n",
    "    train_records, val_records = [], []\n",
    "\n",
    "    for epoch in tqdm.tqdm(range(num_epochs)):\n",
    "        model.train()\n",
    "        total_loss, correct, total = 0, 0, 0\n",
    "        for features, targets in train_loader:\n",
    "            features = features.to(device, dtype=torch.float32)\n",
    "            targets = targets.to(device, dtype=torch.long)\n",
    "\n",
    "            optimizer.zero_grad()\n",
    "            outputs = model(features)\n",
    "            loss = criterion(outputs, targets)\n",
    "\n",
    "            loss.backward()\n",
    "            optimizer.step()\n",
    "\n",
    "            total_loss += loss.item()\n",
    "            _, predicted = torch.max(outputs, 1)\n",
    "            total += targets.size(0)\n",
    "            correct += (predicted == targets).sum().item()\n",
    "\n",
    "        train_acc = 100 * correct / total\n",
    "        train_loss = total_loss / len(train_loader)\n",
    "\n",
    "        val_loss, val_acc = validate_model(model, val_loader, criterion, device)\n",
    "\n",
    "        print(f\"Epoch {epoch+1}: Train Loss: {train_loss:.4f}, Train Acc: {train_acc:.2f}% | Val Loss: {val_loss:.4f}, Val Acc: {val_acc:.2f}%\")\n",
    "        train_records.append((train_loss, train_acc))\n",
    "        val_records.append((val_loss, val_acc))\n",
    "    \n",
    "        if scheduler:\n",
    "            scheduler.step(val_loss)\n",
    "\n",
    "        early_stopping(val_loss, model)\n",
    "        if early_stopping.early_stop:\n",
    "            print(\"Early stopping triggered! Loading best model...\")\n",
    "            model.load_state_dict(torch.load(\"best_model.pth\"))\n",
    "            break\n",
    "\n",
    "    return train_records, val_records"
   ]
  },
  {
   "cell_type": "code",
   "execution_count": null,
   "metadata": {
    "execution": {
     "iopub.execute_input": "2025-02-24T06:49:58.144709Z",
     "iopub.status.busy": "2025-02-24T06:49:58.144424Z",
     "iopub.status.idle": "2025-02-24T06:49:58.168686Z",
     "shell.execute_reply": "2025-02-24T06:49:58.168020Z",
     "shell.execute_reply.started": "2025-02-24T06:49:58.144681Z"
    },
    "trusted": true
   },
   "outputs": [],
   "source": [
    "import torch\n",
    "import torch.nn as nn\n",
    "class KeyLengthCNN(nn.Module):\n",
    "    def __init__(self, input_size, output_size=23, dropout_prob=0.4):\n",
    "        super().__init__()\n",
    "        self.conv_block = nn.Sequential(\n",
    "            nn.Conv1d(1, 32, kernel_size=3, padding=1),\n",
    "            nn.LeakyReLU(0.01),\n",
    "            nn.BatchNorm1d(32),\n",
    "            nn.Conv1d(32, 64, kernel_size=3, padding=1),\n",
    "            nn.LeakyReLU(0.01),\n",
    "            nn.BatchNorm1d(64),\n",
    "        )\n",
    "        \n",
    "        self.fc_block = nn.Sequential(\n",
    "            nn.Linear(64 * input_size, 256),\n",
    "            nn.BatchNorm1d(256),\n",
    "            nn.LeakyReLU(0.01),\n",
    "            nn.Dropout(dropout_prob),\n",
    "            nn.Linear(256, 128),\n",
    "            nn.BatchNorm1d(128),\n",
    "            nn.LeakyReLU(0.01),\n",
    "            nn.Dropout(dropout_prob),\n",
    "            nn.Linear(128, output_size)\n",
    "        )\n",
    "\n",
    "    def forward(self, x):\n",
    "        x = x.unsqueeze(1)\n",
    "        x = self.conv_block(x)\n",
    "        x = x.flatten(start_dim=1)\n",
    "        return self.fc_block(x)"
   ]
  },
  {
   "cell_type": "code",
   "execution_count": 29,
   "metadata": {
    "execution": {
     "iopub.execute_input": "2025-02-24T06:49:58.169835Z",
     "iopub.status.busy": "2025-02-24T06:49:58.169566Z",
     "iopub.status.idle": "2025-02-24T06:49:58.196332Z",
     "shell.execute_reply": "2025-02-24T06:49:58.195438Z",
     "shell.execute_reply.started": "2025-02-24T06:49:58.169803Z"
    },
    "trusted": true
   },
   "outputs": [],
   "source": [
    "import torch.optim.lr_scheduler as lr_scheduler\n",
    "\n",
    "num_classes = len(train_dataset[0][0])\n",
    "    \n",
    "model = KeyLengthCNN(input_size=num_classes)\n",
    "criterion = nn.CrossEntropyLoss()\n",
    "optimizer = torch.optim.AdamW(model.parameters(), lr=0.001, weight_decay=0.01)\n",
    "scheduler = lr_scheduler.ReduceLROnPlateau(optimizer, mode='min', factor=0.5, patience=2)\n",
    "#scheduler = lr_scheduler.MultiStepLR(optimizer, milestones=[10, 15, 20, 25, 30, 35, 40], gamma=0.2)\n",
    "#scheduler = None"
   ]
  },
  {
   "cell_type": "code",
   "execution_count": 30,
   "metadata": {
    "execution": {
     "iopub.execute_input": "2025-02-24T06:49:58.197460Z",
     "iopub.status.busy": "2025-02-24T06:49:58.197223Z",
     "iopub.status.idle": "2025-02-24T06:54:16.230761Z",
     "shell.execute_reply": "2025-02-24T06:54:16.229636Z",
     "shell.execute_reply.started": "2025-02-24T06:49:58.197438Z"
    },
    "trusted": true
   },
   "outputs": [
    {
     "name": "stdout",
     "output_type": "stream",
     "text": [
      "cuda\n"
     ]
    },
    {
     "name": "stderr",
     "output_type": "stream",
     "text": [
      "  0%|          | 1/300 [00:12<1:03:49, 12.81s/it]"
     ]
    },
    {
     "name": "stdout",
     "output_type": "stream",
     "text": [
      "Epoch 1: Train Loss: 0.2200, Train Acc: 94.10% | Val Loss: 0.0841, Val Acc: 97.42%\n",
      "New best model saved! Val Loss: 0.0841\n"
     ]
    },
    {
     "name": "stderr",
     "output_type": "stream",
     "text": [
      "  1%|          | 2/300 [00:25<1:04:11, 12.93s/it]"
     ]
    },
    {
     "name": "stdout",
     "output_type": "stream",
     "text": [
      "Epoch 2: Train Loss: 0.1094, Train Acc: 96.86% | Val Loss: 0.0759, Val Acc: 97.73%\n",
      "New best model saved! Val Loss: 0.0759\n"
     ]
    },
    {
     "name": "stderr",
     "output_type": "stream",
     "text": [
      "  1%|          | 3/300 [00:38<1:03:51, 12.90s/it]"
     ]
    },
    {
     "name": "stdout",
     "output_type": "stream",
     "text": [
      "Epoch 3: Train Loss: 0.1027, Train Acc: 97.01% | Val Loss: 0.0675, Val Acc: 97.96%\n",
      "New best model saved! Val Loss: 0.0675\n"
     ]
    },
    {
     "name": "stderr",
     "output_type": "stream",
     "text": [
      "  1%|▏         | 4/300 [00:51<1:03:41, 12.91s/it]"
     ]
    },
    {
     "name": "stdout",
     "output_type": "stream",
     "text": [
      "Epoch 4: Train Loss: 0.0941, Train Acc: 97.24% | Val Loss: 0.0717, Val Acc: 97.87%\n",
      "EarlyStopping counter: 1/6\n"
     ]
    },
    {
     "name": "stderr",
     "output_type": "stream",
     "text": [
      "  2%|▏         | 5/300 [01:04<1:03:40, 12.95s/it]"
     ]
    },
    {
     "name": "stdout",
     "output_type": "stream",
     "text": [
      "Epoch 5: Train Loss: 0.0911, Train Acc: 97.31% | Val Loss: 0.0793, Val Acc: 97.51%\n",
      "EarlyStopping counter: 2/6\n"
     ]
    },
    {
     "name": "stderr",
     "output_type": "stream",
     "text": [
      "  2%|▏         | 6/300 [01:17<1:03:15, 12.91s/it]"
     ]
    },
    {
     "name": "stdout",
     "output_type": "stream",
     "text": [
      "Epoch 6: Train Loss: 0.0868, Train Acc: 97.46% | Val Loss: 0.0670, Val Acc: 98.04%\n",
      "New best model saved! Val Loss: 0.0670\n"
     ]
    },
    {
     "name": "stderr",
     "output_type": "stream",
     "text": [
      "  2%|▏         | 7/300 [01:30<1:02:59, 12.90s/it]"
     ]
    },
    {
     "name": "stdout",
     "output_type": "stream",
     "text": [
      "Epoch 7: Train Loss: 0.0821, Train Acc: 97.56% | Val Loss: 0.0632, Val Acc: 98.10%\n",
      "New best model saved! Val Loss: 0.0632\n"
     ]
    },
    {
     "name": "stderr",
     "output_type": "stream",
     "text": [
      "  3%|▎         | 8/300 [01:43<1:02:41, 12.88s/it]"
     ]
    },
    {
     "name": "stdout",
     "output_type": "stream",
     "text": [
      "Epoch 8: Train Loss: 0.0835, Train Acc: 97.55% | Val Loss: 0.0644, Val Acc: 98.02%\n",
      "EarlyStopping counter: 1/6\n"
     ]
    },
    {
     "name": "stderr",
     "output_type": "stream",
     "text": [
      "  3%|▎         | 9/300 [01:56<1:02:27, 12.88s/it]"
     ]
    },
    {
     "name": "stdout",
     "output_type": "stream",
     "text": [
      "Epoch 9: Train Loss: 0.0779, Train Acc: 97.68% | Val Loss: 0.0661, Val Acc: 97.95%\n",
      "EarlyStopping counter: 2/6\n"
     ]
    },
    {
     "name": "stderr",
     "output_type": "stream",
     "text": [
      "  3%|▎         | 10/300 [02:09<1:02:34, 12.95s/it]"
     ]
    },
    {
     "name": "stdout",
     "output_type": "stream",
     "text": [
      "Epoch 10: Train Loss: 0.0760, Train Acc: 97.75% | Val Loss: 0.0879, Val Acc: 97.27%\n",
      "EarlyStopping counter: 3/6\n"
     ]
    },
    {
     "name": "stderr",
     "output_type": "stream",
     "text": [
      "  4%|▎         | 11/300 [02:21<1:02:11, 12.91s/it]"
     ]
    },
    {
     "name": "stdout",
     "output_type": "stream",
     "text": [
      "Epoch 11: Train Loss: 0.0693, Train Acc: 97.92% | Val Loss: 0.0625, Val Acc: 98.08%\n",
      "New best model saved! Val Loss: 0.0625\n"
     ]
    },
    {
     "name": "stderr",
     "output_type": "stream",
     "text": [
      "  4%|▍         | 12/300 [02:34<1:01:42, 12.86s/it]"
     ]
    },
    {
     "name": "stdout",
     "output_type": "stream",
     "text": [
      "Epoch 12: Train Loss: 0.0661, Train Acc: 97.99% | Val Loss: 0.0654, Val Acc: 98.03%\n",
      "EarlyStopping counter: 1/6\n"
     ]
    },
    {
     "name": "stderr",
     "output_type": "stream",
     "text": [
      "  4%|▍         | 13/300 [02:47<1:01:29, 12.85s/it]"
     ]
    },
    {
     "name": "stdout",
     "output_type": "stream",
     "text": [
      "Epoch 13: Train Loss: 0.0654, Train Acc: 98.04% | Val Loss: 0.0637, Val Acc: 98.08%\n",
      "EarlyStopping counter: 2/6\n"
     ]
    },
    {
     "name": "stderr",
     "output_type": "stream",
     "text": [
      "  5%|▍         | 14/300 [03:00<1:01:18, 12.86s/it]"
     ]
    },
    {
     "name": "stdout",
     "output_type": "stream",
     "text": [
      "Epoch 14: Train Loss: 0.0635, Train Acc: 98.05% | Val Loss: 0.0623, Val Acc: 98.13%\n",
      "New best model saved! Val Loss: 0.0623\n"
     ]
    },
    {
     "name": "stderr",
     "output_type": "stream",
     "text": [
      "  5%|▌         | 15/300 [03:13<1:01:12, 12.88s/it]"
     ]
    },
    {
     "name": "stdout",
     "output_type": "stream",
     "text": [
      "Epoch 15: Train Loss: 0.0627, Train Acc: 98.11% | Val Loss: 0.0629, Val Acc: 98.09%\n",
      "EarlyStopping counter: 1/6\n"
     ]
    },
    {
     "name": "stderr",
     "output_type": "stream",
     "text": [
      "  5%|▌         | 16/300 [03:26<1:00:53, 12.87s/it]"
     ]
    },
    {
     "name": "stdout",
     "output_type": "stream",
     "text": [
      "Epoch 16: Train Loss: 0.0618, Train Acc: 98.11% | Val Loss: 0.0639, Val Acc: 98.12%\n",
      "EarlyStopping counter: 2/6\n"
     ]
    },
    {
     "name": "stderr",
     "output_type": "stream",
     "text": [
      "  6%|▌         | 17/300 [03:39<1:00:54, 12.91s/it]"
     ]
    },
    {
     "name": "stdout",
     "output_type": "stream",
     "text": [
      "Epoch 17: Train Loss: 0.0597, Train Acc: 98.15% | Val Loss: 0.0629, Val Acc: 98.13%\n",
      "EarlyStopping counter: 3/6\n"
     ]
    },
    {
     "name": "stderr",
     "output_type": "stream",
     "text": [
      "  6%|▌         | 18/300 [03:52<1:00:40, 12.91s/it]"
     ]
    },
    {
     "name": "stdout",
     "output_type": "stream",
     "text": [
      "Epoch 18: Train Loss: 0.0566, Train Acc: 98.25% | Val Loss: 0.0629, Val Acc: 98.16%\n",
      "EarlyStopping counter: 4/6\n"
     ]
    },
    {
     "name": "stderr",
     "output_type": "stream",
     "text": [
      "  6%|▋         | 19/300 [04:04<1:00:19, 12.88s/it]"
     ]
    },
    {
     "name": "stdout",
     "output_type": "stream",
     "text": [
      "Epoch 19: Train Loss: 0.0535, Train Acc: 98.33% | Val Loss: 0.0631, Val Acc: 98.18%\n",
      "EarlyStopping counter: 5/6\n"
     ]
    },
    {
     "name": "stderr",
     "output_type": "stream",
     "text": [
      "<ipython-input-27-e3cc3438c0ee>:72: FutureWarning: You are using `torch.load` with `weights_only=False` (the current default value), which uses the default pickle module implicitly. It is possible to construct malicious pickle data which will execute arbitrary code during unpickling (See https://github.com/pytorch/pytorch/blob/main/SECURITY.md#untrusted-models for more details). In a future release, the default value for `weights_only` will be flipped to `True`. This limits the functions that could be executed during unpickling. Arbitrary objects will no longer be allowed to be loaded via this mode unless they are explicitly allowlisted by the user via `torch.serialization.add_safe_globals`. We recommend you start setting `weights_only=True` for any use case where you don't have full control of the loaded file. Please open an issue on GitHub for any issues related to this experimental feature.\n",
      "  model.load_state_dict(torch.load(\"best_model.pth\"))\n",
      "  6%|▋         | 19/300 [04:18<1:03:36, 13.58s/it]"
     ]
    },
    {
     "name": "stdout",
     "output_type": "stream",
     "text": [
      "Epoch 20: Train Loss: 0.0528, Train Acc: 98.35% | Val Loss: 0.0655, Val Acc: 98.07%\n",
      "EarlyStopping counter: 6/6\n",
      "Early stopping triggered! Loading best model...\n"
     ]
    },
    {
     "name": "stderr",
     "output_type": "stream",
     "text": [
      "\n"
     ]
    }
   ],
   "source": [
    "device = torch.device(\"cuda\" if torch.cuda.is_available() else \"cpu\")\n",
    "print(device)\n",
    "train_records, val_records = train_model(model, train_loader, val_loader, criterion, optimizer, device , scheduler=scheduler, num_epochs=300, patience=6)"
   ]
  },
  {
   "cell_type": "code",
   "execution_count": null,
   "metadata": {
    "execution": {
     "iopub.execute_input": "2025-02-24T06:57:45.117879Z",
     "iopub.status.busy": "2025-02-24T06:57:45.117424Z",
     "iopub.status.idle": "2025-02-24T06:57:45.603497Z",
     "shell.execute_reply": "2025-02-24T06:57:45.602403Z",
     "shell.execute_reply.started": "2025-02-24T06:57:45.117841Z"
    },
    "trusted": true
   },
   "outputs": [
    {
     "data": {
      "image/png": "[encoded data removed]",
      "text/plain": [
       "<Figure size 1000x1000 with 2 Axes>"
      ]
     },
     "metadata": {},
     "output_type": "display_data"
    }
   ],
   "source": [
    "import matplotlib.pyplot as plt\n",
    "\n",
    "epochs = range(1, len(train_records) + 1)\n",
    "    \n",
    "train_loss, train_acc = zip(*train_records)\n",
    "val_loss, val_acc = zip(*val_records)\n",
    "\n",
    "train_df = pd.DataFrame({'Epoch': epochs, 'Train Loss': train_loss, 'Train Accuracy': train_acc})\n",
    "val_df = pd.DataFrame({'Epoch': epochs, 'Validation Loss': val_loss, 'Validation Accuracy': val_acc})\n",
    "\n",
    "fig, axes = plt.subplots(2, 1, figsize=(10, 10))\n",
    "\n",
    " # Plot Loss\n",
    "axes[0].set_title(\"Training vs Validation Loss\")\n",
    "axes[0].set_xlabel(\"Epochs\")\n",
    "axes[0].set_ylabel(\"Loss\")\n",
    "axes[0].plot(epochs, train_loss, 'r-', label=\"Train Loss\")\n",
    "axes[0].plot(epochs, val_loss, 'r--', label=\"Validation Loss\")\n",
    "axes[0].legend()\n",
    "\n",
    "# Plot Accuracy\n",
    "axes[1].set_title(\"Training vs Validation Accuracy\")\n",
    "axes[1].set_xlabel(\"Epochs\")\n",
    "axes[1].set_ylabel(\"Accuracy\")\n",
    "axes[1].plot(epochs, train_acc, 'b-', label=\"Train Accuracy\")\n",
    "axes[1].plot(epochs, val_acc, 'b--', label=\"Validation Accuracy\")\n",
    "axes[1].legend()\n",
    "\n",
    "plt.tight_layout()\n",
    "plt.show()"
   ]
  }
 ],
 "metadata": {
  "kaggle": {
   "accelerator": "nvidiaTeslaT4",
   "dataSources": [
    {
     "datasetId": 6695624,
     "sourceId": 10831777,
     "sourceType": "datasetVersion"
    }
   ],
   "dockerImageVersionId": 30887,
   "isGpuEnabled": true,
   "isInternetEnabled": true,
   "language": "python",
   "sourceType": "notebook"
  },
  "kernelspec": {
   "display_name": "base",
   "language": "python",
   "name": "python3"
  },
  "language_info": {
   "codemirror_mode": {
    "name": "ipython",
    "version": 3
   },
   "file_extension": ".py",
   "mimetype": "text/x-python",
   "name": "python",
   "nbconvert_exporter": "python",
   "pygments_lexer": "ipython3",
   "version": "3.12.3"
  }
 },
 "nbformat": 4,
 "nbformat_minor": 4
}
